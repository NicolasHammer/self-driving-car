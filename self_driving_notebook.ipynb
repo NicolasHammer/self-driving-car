{
    "cells": [
        {
            "cell_type": "code",
            "execution_count": null,
            "source": [
                "# Import relevant packages\n",
                "import torch\n",
                "import torch.nn\n",
                "import torch.optim\n",
                "from torch.utils import data\n",
                "from torch.utils.data import DataLoader\n",
                "import torchvision.transforms as transforms\n",
                "\n",
                "import numpy\n",
                "\n",
                "import csv\n",
                "\n",
                "device = torch.device(\"cuda\" if torch.cuda.is_available else \"cpu\")"
            ],
            "outputs": [],
            "metadata": {}
        }
    ],
    "metadata": {
        "orig_nbformat": 4,
        "language_info": {
            "name": "python"
        }
    },
    "nbformat": 4,
    "nbformat_minor": 2
}