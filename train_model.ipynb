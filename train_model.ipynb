{
  "nbformat": 4,
  "nbformat_minor": 0,
  "metadata": {
    "orig_nbformat": 4,
    "colab": {
      "name": "train_model.ipynb",
      "provenance": []
    },
    "language_info": {
      "name": "python"
    },
    "kernelspec": {
      "name": "python3",
      "display_name": "Python 3"
    },
    "accelerator": "GPU"
  },
  "cells": [
    {
      "cell_type": "markdown",
      "metadata": {
        "id": "7e7pnqi_HNVr"
      },
      "source": [
        "# Train GTAV Self-Driving Model"
      ]
    },
    {
      "cell_type": "code",
      "metadata": {
        "id": "mMa0frrXHNVs"
      },
      "source": [
        "# Import relevant packages\n",
        "import random\n",
        "import ntpath\n",
        "\n",
        "import numpy as np\n",
        "import matplotlib.pyplot as plt\n",
        "import matplotlib.image as npimg  \n",
        "from sklearn.utils import shuffle\n",
        "from sklearn.model_selection import train_test_split\n",
        "from imgaug import augmenters as iaa\n",
        "\n",
        "import torch\n",
        "import torch.nn as nn\n",
        "from torch.optim import Adam"
      ],
      "execution_count": null,
      "outputs": []
    },
    {
      "cell_type": "code",
      "metadata": {
        "id": "dMGv5j6OId68"
      },
      "source": [
        "# Establish fixed values\n"
      ],
      "execution_count": null,
      "outputs": []
    }
  ]
}