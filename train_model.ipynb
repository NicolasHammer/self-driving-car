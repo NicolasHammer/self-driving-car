{
    "cells": [
        {
            "cell_type": "markdown",
            "source": [
                "# Train GTAV Self-Driving Model"
            ],
            "metadata": {}
        },
        {
            "cell_type": "code",
            "execution_count": null,
            "source": [
                "# Import relevant packages\r\n",
                "import random\r\n",
                "import ntpath"
            ],
            "outputs": [],
            "metadata": {}
        }
    ],
    "metadata": {
        "orig_nbformat": 4,
        "language_info": {
            "name": "python"
        }
    },
    "nbformat": 4,
    "nbformat_minor": 2
}