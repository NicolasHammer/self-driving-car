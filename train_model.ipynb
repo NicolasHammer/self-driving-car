{
  "nbformat": 4,
  "nbformat_minor": 2,
  "metadata": {
    "orig_nbformat": 4,
    "colab": {
      "name": "train_model.ipynb",
      "provenance": []
    },
    "language_info": {
      "name": "python"
    },
    "kernelspec": {
      "name": "python3",
      "display_name": "Python 3"
    },
    "accelerator": "GPU"
  },
  "cells": [
    {
      "cell_type": "markdown",
      "source": [
        "# Train GTAV Self-Driving Model"
      ],
      "metadata": {
        "id": "7e7pnqi_HNVr"
      }
    },
    {
      "cell_type": "code",
      "execution_count": 1,
      "source": [
        "# Import relevant packages\r\n",
        "import random\r\n",
        "import time\r\n",
        "\r\n",
        "import numpy as np\r\n",
        "import matplotlib.pyplot as plt\r\n",
        "from sklearn.utils import shuffle\r\n",
        "\r\n",
        "import torch\r\n",
        "import torch.nn as nn\r\n",
        "from torch.optim import Adam\r\n",
        "from torch.utils.data import DataLoader\r\n",
        "\r\n",
        "from data.manipulate_image import zoom, img_random_flip, pan, img_random_brightness, random_augment\r\n",
        "from data.augmented_dataset import Augmented_Dataset\r\n",
        "from trained_models.pilot_net import PilotNet\r\n",
        "\r\n",
        "# Establishing devices\r\n",
        "device = torch.device(\"cuda\" if torch.cuda.is_available() else \"cpu\")\r\n",
        "print(f\"Using {device}\")\r\n"
      ],
      "outputs": [
        {
          "output_type": "stream",
          "name": "stdout",
          "text": [
            "Using cuda\n"
          ]
        }
      ],
      "metadata": {
        "id": "mMa0frrXHNVs",
        "outputId": "20e70408-396f-401d-a6ca-bf01643f90f8",
        "colab": {
          "base_uri": "https://localhost:8080/"
        }
      }
    },
    {
      "cell_type": "code",
      "execution_count": 2,
      "source": [
        "# Establish fixed values\r\n",
        "WIDTH = 160\r\n",
        "HEIGHT = 120\r\n"
      ],
      "outputs": [],
      "metadata": {
        "id": "dMGv5j6OId68"
      }
    },
    {
      "cell_type": "code",
      "execution_count": null,
      "source": [
        "# Load Data from Google Drive\r\n",
        "from google.colab import drive\r\n",
        "drive.mount('/content/drive')\r\n",
        "\r\n",
        "train_data = np.concatenate((np.load(\r\n",
        "    f'drive/My Drive/training_data_angle/training_data-{i}.npy', allow_pickle=True) for i in range(1, 26)))\r\n",
        "\r\n",
        "print(\"Train Data: \", train_data.shape)\r\n"
      ],
      "outputs": [],
      "metadata": {
        "id": "gMlC8Ze9GX89",
        "colab": {
          "base_uri": "https://localhost:8080/"
        },
        "outputId": "0fe65092-9ff9-4e8f-9323-16ecb6950590"
      }
    },
    {
      "cell_type": "code",
      "execution_count": null,
      "source": [
        "# Separate data into steering and throttle\r\n",
        "steering = []\r\n",
        "throttle = []\r\n",
        "for data in train_data:\r\n",
        "    image = data[0]\r\n",
        "    steering_data = data[1][0]\r\n",
        "    throttle_data = data[1][1]\r\n",
        "\r\n",
        "    choice = [steering_data, throttle]\r\n",
        "    steering.append(steering_data)\r\n",
        "    throttle.append(throttle_data)\r\n",
        "\r\n",
        "steering = np.array(steering)\r\n",
        "throttle = np.array(throttle)\r\n"
      ],
      "outputs": [],
      "metadata": {
        "id": "-D6zDXaFHe5i"
      }
    },
    {
      "cell_type": "code",
      "execution_count": null,
      "source": [
        "# Plot Unbalanced Steering Data\r\n",
        "num_bins = 25\r\n",
        "samples_per_bin = 3500\r\n",
        "hist, bins = np.histogram(steering, num_bins)\r\n",
        "center = (bins[:-1] + bins[1:]) * 0.5\r\n",
        "plt.bar(center, hist, width=0.05)\r\n",
        "plt.plot((np.min(steering), np.max(steering)),\r\n",
        "         (samples_per_bin, samples_per_bin))\r\n"
      ],
      "outputs": [],
      "metadata": {
        "id": "ybF4I6c7HjXr",
        "colab": {
          "base_uri": "https://localhost:8080/",
          "height": 282
        },
        "outputId": "34a09e97-141b-4867-dbec-9e3b6c6553a3"
      }
    },
    {
      "cell_type": "code",
      "execution_count": null,
      "source": [
        "# Plot Unbalanced throttle Data\r\n",
        "num_bins = 25\r\n",
        "samples_per_bin = 3500\r\n",
        "hist, bins = np.histogram(throttle, num_bins)\r\n",
        "center = (bins[:-1] + bins[1:]) * 0.5\r\n",
        "plt.bar(center, hist, width=0.05)\r\n"
      ],
      "outputs": [],
      "metadata": {
        "id": "x70wovZVIQ8w",
        "outputId": "b2d8f6f4-7610-4202-8d31-ccca61bf0694",
        "colab": {
          "base_uri": "https://localhost:8080/",
          "height": 282
        }
      }
    },
    {
      "cell_type": "code",
      "execution_count": null,
      "source": [
        "# Balance the steering data\r\n",
        "print('total data', len(train_data))\r\n",
        "remove_list = []\r\n",
        "for j in range(num_bins):\r\n",
        "    list_ = []\r\n",
        "    for i in range(len(steering)):\r\n",
        "        if steering[i] >= bins[j] and steering[i] <= bins[j+1]:\r\n",
        "            # print(i)\r\n",
        "            list_.append(i)\r\n",
        "    list_ = shuffle(list_)\r\n",
        "    list_ = list_[samples_per_bin:]\r\n",
        "    remove_list.extend(list_)\r\n",
        "\r\n",
        "print('removed', len(remove_list))\r\n",
        "\r\n",
        "print(np.max(remove_list))\r\n",
        "\r\n",
        "train_data = np.delete(train_data, remove_list, axis=0)\r\n",
        "\r\n",
        "print('remaining:', len(train_data))\r\n"
      ],
      "outputs": [],
      "metadata": {
        "id": "c6pkc4q9HwfX",
        "colab": {
          "base_uri": "https://localhost:8080/"
        },
        "outputId": "73352e86-43a6-41b9-8c62-cbb8adef797e"
      }
    },
    {
      "cell_type": "code",
      "execution_count": null,
      "source": [
        "# Separate balanced data into steering and throttle\r\n",
        "steering = []\r\n",
        "throttle = []\r\n",
        "\r\n",
        "for data in train_data:\r\n",
        "    image = data[0]\r\n",
        "    steering_data = data[1][0]\r\n",
        "    throttle_data = data[1][1]\r\n",
        "    steering.append(steering_data)\r\n",
        "    throttle.append(throttle_data)\r\n",
        "\r\n",
        "steering = np.array(steering)\r\n",
        "throttle = np.array(throttle)\r\n"
      ],
      "outputs": [],
      "metadata": {
        "id": "_3NTXkfuIfAu"
      }
    },
    {
      "cell_type": "code",
      "execution_count": null,
      "source": [
        "# Plot balanced Steering Data\r\n",
        "num_bins = 25\r\n",
        "samples_per_bin = 2000\r\n",
        "hist, bins = np.histogram(steering, num_bins)\r\n",
        "center = (bins[:-1] + bins[1:]) * 0.5\r\n",
        "plt.bar(center, hist, width=0.05)\r\n"
      ],
      "outputs": [],
      "metadata": {
        "id": "1iSRK0FcIkkB",
        "colab": {
          "base_uri": "https://localhost:8080/",
          "height": 282
        },
        "outputId": "94bfede4-0217-4f95-d8e3-5a661b61ac95"
      }
    },
    {
      "cell_type": "code",
      "execution_count": null,
      "source": [
        "# Plot balanced throttle Data\r\n",
        "num_bins = 25\r\n",
        "samples_per_bin = 2000\r\n",
        "hist, bins = np.histogram(throttle, num_bins)\r\n",
        "center = (bins[:-1] + bins[1:]) * 0.5\r\n",
        "plt.bar(center, hist, width=0.05)\r\n"
      ],
      "outputs": [],
      "metadata": {
        "id": "11mWeseDIuuu",
        "colab": {
          "base_uri": "https://localhost:8080/",
          "height": 282
        },
        "outputId": "6cf213ac-ef35-47fc-d499-71fa8fa228ea"
      }
    },
    {
      "cell_type": "code",
      "execution_count": null,
      "source": [
        "# Add augmented data to the dataset\r\n",
        "temp_train_data = []\r\n",
        "for data in train_data:\r\n",
        "    image = data[0]\r\n",
        "    choice = data[1]\r\n",
        "    flipped_image, flipped_choice = img_random_flip(image, choice)\r\n",
        "    temp_train_data.append([flipped_image, flipped_choice])\r\n",
        "\r\n",
        "temp_train_data = np.array(temp_train_data)\r\n",
        "train_data = np.concatenate((train_data, temp_train_data))\r\n",
        "\r\n",
        "\r\n",
        "print(\"New Size of Training Data:\", len(train_data))\r\n",
        "train_data = shuffle(train_data)\r\n"
      ],
      "outputs": [],
      "metadata": {
        "id": "gLakm23mI4kF",
        "colab": {
          "base_uri": "https://localhost:8080/"
        },
        "outputId": "d5da29b7-4664-4632-e76c-8bbc173aff4c"
      }
    },
    {
      "cell_type": "code",
      "execution_count": null,
      "source": [
        "# Separate artificially expanded data into steering and throttle\r\n",
        "train_data = shuffle(train_data)\r\n",
        "steering = []\r\n",
        "throttle = []\r\n",
        "\r\n",
        "for data in train_data:\r\n",
        "    image = data[0]\r\n",
        "    steering_data = data[1][0]\r\n",
        "    throttle_data = data[1][1]\r\n",
        "    steering.append(steering_data)\r\n",
        "    throttle.append(throttle_data)\r\n",
        "\r\n",
        "steering = np.array(steering)\r\n",
        "throttle = np.array(throttle)\r\n"
      ],
      "outputs": [],
      "metadata": {
        "id": "GdGL5AfiJCV8"
      }
    },
    {
      "cell_type": "code",
      "execution_count": null,
      "source": [
        "# Plot expanded-balanced Steering Data\r\n",
        "num_bins = 25\r\n",
        "samples_per_bin = 2000\r\n",
        "hist, bins = np.histogram(steering, num_bins)\r\n",
        "center = (bins[:-1] + bins[1:]) * 0.5\r\n",
        "plt.bar(center, hist, width=0.05)\r\n"
      ],
      "outputs": [],
      "metadata": {
        "id": "ablqVnNZJIt9",
        "colab": {
          "base_uri": "https://localhost:8080/",
          "height": 282
        },
        "outputId": "f7331a2b-3559-429e-9d49-b42f86fea044"
      }
    },
    {
      "cell_type": "code",
      "execution_count": null,
      "source": [
        "# Plot Throttle\r\n",
        "hist, bins = np.histogram(throttle, num_bins)\r\n",
        "center = (bins[:-1] + bins[1:]) * 0.5\r\n",
        "plt.bar(center, hist, width=0.05)\r\n"
      ],
      "outputs": [],
      "metadata": {
        "id": "My2v1NPfJLDa",
        "colab": {
          "base_uri": "https://localhost:8080/",
          "height": 282
        },
        "outputId": "a73240a1-f950-4766-8961-200c7f0a7021"
      }
    },
    {
      "cell_type": "code",
      "execution_count": null,
      "source": [
        "# Split the dataset\r\n",
        "train = train_data[:-round(len(train_data)*0.20)]\r\n",
        "test = train_data[-round(len(train_data)*0.20):]\r\n",
        "print(\"train: \", train.shape)\r\n",
        "print(\"test: \", test.shape)\r\n",
        "\r\n",
        "\r\n",
        "X = np.array([i[0] for i in train]).reshape(-1, WIDTH, HEIGHT, 1)\r\n",
        "Y = np.array([i[1] for i in train])\r\n",
        "\r\n",
        "test_x = np.array([i[0] for i in test]).reshape(-1, WIDTH, HEIGHT, 1)\r\n",
        "test_y = np.array([i[1] for i in test])\r\n"
      ],
      "outputs": [],
      "metadata": {
        "id": "BFy1xUd_JOpP",
        "colab": {
          "base_uri": "https://localhost:8080/"
        },
        "outputId": "236d4ed9-44fe-4f0a-fdbf-a1be2d43b8aa"
      }
    },
    {
      "cell_type": "code",
      "execution_count": null,
      "source": [
        "# Image augmentation used to generalize the performance of the model\r\n",
        "# Below is an example of the zoom augmentation\r\n",
        "image, choice = train[random.randint(0, len(train)-1)]\r\n",
        "zoomed_image = zoom(image)\r\n",
        "\r\n",
        "fig, axs = plt.subplots(1, 2, figsize=(15, 10))\r\n",
        "fig.tight_layout()\r\n",
        "axs[0].imshow(image)\r\n",
        "axs[0].set_title('Original Image')\r\n",
        "axs[1].imshow(zoomed_image)\r\n",
        "axs[1].set_title('Zoomed Image')\r\n"
      ],
      "outputs": [],
      "metadata": {
        "id": "m70jjXQiJUZs",
        "colab": {
          "base_uri": "https://localhost:8080/",
          "height": 451
        },
        "outputId": "29554b0e-7190-4d67-f811-69ada335f865"
      }
    },
    {
      "cell_type": "code",
      "execution_count": null,
      "source": [
        "# Example of panned image\r\n",
        "image, choice = train[random.randint(0, len(train)-1)]\r\n",
        "panned_image = pan(image)\r\n",
        "\r\n",
        "fig, axs = plt.subplots(1, 2, figsize=(15, 10))\r\n",
        "fig.tight_layout()\r\n",
        "axs[0].imshow(image)\r\n",
        "axs[0].set_title('Original Image')\r\n",
        "axs[1].imshow(panned_image)\r\n",
        "axs[1].set_title('Panned Image')\r\n"
      ],
      "outputs": [],
      "metadata": {
        "id": "9iv9oljqJjHP",
        "colab": {
          "base_uri": "https://localhost:8080/",
          "height": 451
        },
        "outputId": "62b2e084-cba7-4e8d-ca33-1d0b1dd8aa73"
      }
    },
    {
      "cell_type": "code",
      "execution_count": null,
      "source": [
        "# Example of random brightness agumentation\r\n",
        "image, choice = train_data[random.randint(0, len(train_data)-1)]\r\n",
        "bright_image = img_random_brightness(image)\r\n",
        "\r\n",
        "fig, axs = plt.subplots(1, 2, figsize=(15, 10))\r\n",
        "fig.tight_layout()\r\n",
        "axs[0].imshow(image)\r\n",
        "axs[0].set_title('Original Image')\r\n",
        "\r\n",
        "axs[1].imshow(bright_image)\r\n",
        "axs[1].set_title('bright_image')\r\n"
      ],
      "outputs": [],
      "metadata": {
        "id": "UC_IJRArJqie",
        "colab": {
          "base_uri": "https://localhost:8080/",
          "height": 451
        },
        "outputId": "aace2833-8c17-47af-e018-7924a9151541"
      }
    },
    {
      "cell_type": "code",
      "execution_count": null,
      "source": [
        "# Example of random flip augmentation\r\n",
        "image, choice = train_data[random.randint(0, len(train_data)-1)]\r\n",
        "flip_image, flip_choice = img_random_flip(image, choice)\r\n",
        "\r\n",
        "fig, axs = plt.subplots(1, 2, figsize=(15, 10))\r\n",
        "fig.tight_layout()\r\n",
        "axs[0].imshow(image)\r\n",
        "axs[0].set_title('Original Image')\r\n",
        "\r\n",
        "axs[1].imshow(flip_image)\r\n",
        "axs[1].set_title('flip_image')\r\n",
        "\r\n",
        "print(\"actual steering angle = \", choice[0])\r\n",
        "print(\"flipped steering angle = \", flip_choice[0])\r\n"
      ],
      "outputs": [],
      "metadata": {
        "id": "GlearpyfJxpA",
        "colab": {
          "base_uri": "https://localhost:8080/",
          "height": 468
        },
        "outputId": "90969dbb-4bd1-41ad-e070-7b463893be58"
      }
    },
    {
      "cell_type": "code",
      "execution_count": null,
      "source": [
        "image, choice = train_data [random.randint(0,len(train_data)-1)]\r\n",
        "random_augmented_image, augmented_choice = random_augment(image, choice)\r\n",
        "\r\n",
        "fig, axs = plt.subplots(1, 2, figsize=(15, 10))\r\n",
        "fig.tight_layout()\r\n",
        "axs[0].imshow(image) #cmap='gray'\r\n",
        "axs[0].set_title('Original Image')\r\n",
        "\r\n",
        "axs[1].imshow(random_augmented_image) #cmap='gray'\r\n",
        "axs[1].set_title('Random Augmented Image')"
      ],
      "outputs": [],
      "metadata": {
        "id": "jK4Hc4cCJ6gK",
        "colab": {
          "base_uri": "https://localhost:8080/",
          "height": 451
        },
        "outputId": "bfc5b5a0-aa81-49c2-f15e-3a08455d088c"
      }
    },
    {
      "cell_type": "code",
      "execution_count": null,
      "source": [
        "# Create Datasets and Dataloaders\r\n",
        "train_dataset = Augmented_Dataset(train, True, device, WIDTH, HEIGHT)\r\n",
        "test_dataset = Augmented_Dataset(test, False, device, WIDTH, HEIGHT)\r\n",
        "\r\n",
        "train_dataloader = DataLoader(train_dataset, batch_size = 300, shuffle = True)\r\n",
        "test_dataloader = DataLoader(test_dataset, batch_size = 100, shuffle = False)"
      ],
      "outputs": [],
      "metadata": {
        "id": "8tKabET2ux3k"
      }
    },
    {
      "cell_type": "code",
      "execution_count": null,
      "source": [
        "# Train and Test Functions\r\n",
        "def train(model, train_dataloader, optimizer, criterion, learning_rate, epoch):\r\n",
        "    model.train()\r\n",
        "    total_loss = 0.\r\n",
        "    start_time = time.time()\r\n",
        "\r\n",
        "    for batch_num, (images, choices) in enumerate(train_dataloader):\r\n",
        "        optimizer.zero_grad()\r\n",
        "        output = model(images)\r\n",
        "\r\n",
        "        loss = criterion(output, choices)\r\n",
        "        loss.backward()\r\n",
        "\r\n",
        "        optimizer.step()\r\n",
        "\r\n",
        "        total_loss += loss.item()\r\n",
        "        log_interval = 10\r\n",
        "        if batch_num % log_interval == 0 and batch_num > 0:\r\n",
        "            cur_loss = total_loss / log_interval\r\n",
        "            elapsed = time.time() - start_time\r\n",
        "            print('| epoch {:3d} | {:5d}/{:5d} batches | '\r\n",
        "                  'lr {:02.2f} | ms/batch {:5.2f} | '\r\n",
        "                  'loss {:5.2f}'.format(\r\n",
        "                      epoch, batch_num, len(\r\n",
        "                          train_data) // train_dataloader.batch_size,\r\n",
        "                      learning_rate, elapsed * 1000 / log_interval,\r\n",
        "                      cur_loss))\r\n",
        "            total_loss = 0\r\n",
        "            start_time = time.time()\r\n",
        "\r\n",
        "\r\n",
        "def evaluate(eval_model, test_dataloader):\r\n",
        "    eval_model.eval()\r\n",
        "    total_num_correct = 0\r\n",
        "\r\n",
        "    with torch.no_grad():\r\n",
        "        for (images, choices) in test_dataloader:\r\n",
        "            output = eval_model(images)\r\n",
        "            total_num_correct += num_correct(output, choices)\r\n",
        "\r\n",
        "    return total_num_correct\r\n",
        "\r\n",
        "\r\n",
        "def num_correct(output, choices):\r\n",
        "    print(output.shape)\r\n",
        "    print(choices.shape)\r\n"
      ],
      "outputs": [],
      "metadata": {
        "id": "bj_Dmy-kQheS"
      }
    },
    {
      "cell_type": "code",
      "execution_count": null,
      "source": [
        "# Train model\r\n",
        "epochs = 25\r\n",
        "learning_rate = 0.001\r\n",
        "\r\n",
        "pilot_net = PilotNet(2).to(device)\r\n",
        "criterion = nn.MSELoss()\r\n",
        "optimizer = Adam(pilot_net.parameters, learning_rate)\r\n",
        "\r\n",
        "best_val_loss = float(\"inf\")\r\n",
        "best_model = None\r\n",
        "\r\n",
        "for epoch in range(1, epochs + 1):\r\n",
        "    epoch_start_time = time.time()\r\n",
        "    train(pilot_net, train_dataloader, optimizer,\r\n",
        "          criterion, learning_rate, epoch)\r\n",
        "    val_loss = evaluate(pilot_net, test_dataloader)\r\n",
        "    print('-' * 89)\r\n",
        "    print('| end of epoch {:3d} | time: {:5.2f}s | valid loss {:5.2f} | '\r\n",
        "          'valid ppl {:8.2f}'.format(epoch, (time.time() - epoch_start_time), val_loss))\r\n",
        "    print('-' * 89)\r\n",
        "\r\n",
        "    if val_loss < best_val_loss:\r\n",
        "        best_val_loss = val_loss\r\n",
        "        best_model = pilot_net\r\n"
      ],
      "outputs": [],
      "metadata": {}
    },
    {
      "cell_type": "code",
      "execution_count": null,
      "source": [
        "# Save model\r\n",
        "torch.save(best_model.state_dict(), \"trained_models\\pilot_model.pt\")"
      ],
      "outputs": [],
      "metadata": {}
    }
  ]
}